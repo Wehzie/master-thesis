{
 "cells": [
  {
   "cell_type": "code",
   "execution_count": 58,
   "metadata": {},
   "outputs": [],
   "source": [
    "from pathlib import Path\n",
    "import wave\n",
    "from scipy.io.wavfile import read\n",
    "import numpy as np\n",
    "import matplotlib.pyplot as plt\n",
    "\n",
    "DATA_PATH = Path(\"../data/magpie. 35k, mono, 8-bit, 11025 Hz, 3.3 seconds.wav\")\n",
    "\n",
    "# with scipy\n",
    "raw_scipy = read(DATA_PATH)\n",
    "\n",
    "# with wave and numpy\n",
    "# Read file to get buffer                                                                                               \n",
    "ifile = wave.open(str(DATA_PATH)) # BUG with pathlib\n",
    "samples = ifile.getnframes()\n",
    "audio = ifile.readframes(samples)\n",
    "\n",
    "# Convert buffer to float32 using NumPy                                                                                 \n",
    "audio_as_np_uint8 = np.frombuffer(audio, dtype=np.uint8)\n",
    "audio_as_np_float32 = audio_as_np_uint8.astype(np.float32)\n",
    "\n",
    "# Normalise float32 array so that values are between 0 and +1.0                                                      \n",
    "max_uint8 = 255\n",
    "audio_normalised = audio_as_np_float32 / max_uint8\n"
   ]
  },
  {
   "cell_type": "code",
   "execution_count": 29,
   "metadata": {},
   "outputs": [
    {
     "name": "stdout",
     "output_type": "stream",
     "text": [
      "(11025, array([129, 126, 128, ..., 128, 127, 125], dtype=uint8))\n"
     ]
    }
   ],
   "source": [
    "print(raw_scipy)"
   ]
  },
  {
   "cell_type": "code",
   "execution_count": 56,
   "metadata": {},
   "outputs": [
    {
     "name": "stdout",
     "output_type": "stream",
     "text": [
      "[129 126 128 ... 128 127 125]\n",
      "[0.5058824  0.49411765 0.5019608  ... 0.5019608  0.49803922 0.49019608]\n"
     ]
    }
   ],
   "source": [
    "print(audio_as_np_uint8)\n",
    "print(audio_normalised)"
   ]
  },
  {
   "cell_type": "code",
   "execution_count": 62,
   "metadata": {},
   "outputs": [
    {
     "data": {
      "text/plain": [
       "[<matplotlib.lines.Line2D at 0x7f52be8e0940>]"
      ]
     },
     "execution_count": 62,
     "metadata": {},
     "output_type": "execute_result"
    },
    {
     "data": {
      "image/png": "[encoded data removed]",
      "text/plain": [
       "<Figure size 432x288 with 1 Axes>"
      ]
     },
     "metadata": {
      "needs_background": "light"
     },
     "output_type": "display_data"
    }
   ],
   "source": [
    "x = list(range(len(raw_scipy[1])))\n",
    "plt.plot(x, raw_scipy[1])"
   ]
  }
 ],
 "metadata": {
  "interpreter": {
   "hash": "916dbcbb3f70747c44a77c7bcd40155683ae19c65e1c03b4aa3499c5328201f1"
  },
  "kernelspec": {
   "display_name": "Python 3.10.4 64-bit",
   "language": "python",
   "name": "python3"
  },
  "language_info": {
   "codemirror_mode": {
    "name": "ipython",
    "version": 3
   },
   "file_extension": ".py",
   "mimetype": "text/x-python",
   "name": "python",
   "nbconvert_exporter": "python",
   "pygments_lexer": "ipython3",
   "version": "3.10.4"
  },
  "orig_nbformat": 4
 },
 "nbformat": 4,
 "nbformat_minor": 2
}
